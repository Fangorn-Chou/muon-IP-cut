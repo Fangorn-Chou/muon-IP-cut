{
 "cells": [
  {
   "cell_type": "code",
   "execution_count": 38,
   "metadata": {},
   "outputs": [],
   "source": [
    "import uproot\n",
    "import numpy as np\n",
    "import matplotlib.pyplot as plt\n",
    "from mpl_toolkits.mplot3d import Axes3D\n",
    "import pandas as pd\n",
    "import math"
   ]
  },
  {
   "cell_type": "code",
   "execution_count": 39,
   "metadata": {},
   "outputs": [],
   "source": [
    "f = uproot.open(\"straighttracks-mc-22m-area00-slice1cm2.root\")\n",
    "idarray= np.float64(f[\"ntuple\"][\"id\"].array())\n",
    "xarray= np.float64(f[\"ntuple\"][\"x\"].array())\n",
    "yarray= np.float64(f[\"ntuple\"][\"y\"].array())\n",
    "zarray= np.float64(f[\"ntuple\"][\"z\"].array())\n",
    "txarray= np.float64(f[\"ntuple\"][\"tx\"].array())\n",
    "tyarray= np.float64(f[\"ntuple\"][\"ty\"].array())\n",
    "izarray= np.float64(f[\"ntuple\"][\"iz\"].array())\n",
    "trkidarray= np.float64(f[\"ntuple\"][\"trkid\"].array())\n",
    "ibtarray= np.float64(f[\"ntuple\"][\"ibt\"].array())\n",
    "nbtsarray= np.float64(f[\"ntuple\"][\"nbts\"].array())\n",
    "dataarr=np.array((xarray,yarray,zarray,txarray,tyarray,izarray,idarray,nbtsarray,trkidarray,ibtarray)).T"
   ]
  },
  {
   "cell_type": "code",
   "execution_count": 40,
   "metadata": {},
   "outputs": [],
   "source": [
    "muonarr=dataarr[dataarr[:,6]==13]\n",
    "otherarr=dataarr[dataarr[:,6]!=13]"
   ]
  },
  {
   "cell_type": "code",
   "execution_count": 41,
   "metadata": {},
   "outputs": [
    {
     "name": "stdout",
     "output_type": "stream",
     "text": [
      "(4896056,)\n"
     ]
    }
   ],
   "source": [
    "# Determine seed ? track\n",
    "izmin=np.amin(dataarr[:,5]) # iz of first layer\n",
    "dataseed=[]\n",
    "for i in range(len(dataarr)):\n",
    "    if(dataarr[i][9]==0): # ibtarray==0 : gets seed track, and tracks at layer 72\n",
    "        dataseed.append(1)\n",
    "    else:\n",
    "        dataseed.append(0)\n",
    "dataseed=np.array(dataseed).T \n",
    "print(dataseed.shape)  # An array of 0s and 1s; 1 means that the muon ST is a seed"
   ]
  },
  {
   "cell_type": "code",
   "execution_count": 42,
   "metadata": {},
   "outputs": [
    {
     "data": {
      "text/plain": [
       "291279"
      ]
     },
     "execution_count": 42,
     "metadata": {},
     "output_type": "execute_result"
    }
   ],
   "source": [
    "len(dataseed[dataseed[:]==1])"
   ]
  },
  {
   "cell_type": "code",
   "execution_count": 43,
   "metadata": {},
   "outputs": [],
   "source": [
    "data_seedarr=dataarr[dataseed[:]==1]\n",
    "data_nseedarr=dataarr[dataseed[:]==0]"
   ]
  },
  {
   "cell_type": "code",
   "execution_count": 44,
   "metadata": {},
   "outputs": [
    {
     "name": "stdout",
     "output_type": "stream",
     "text": [
      "291279\n",
      "4604777\n"
     ]
    }
   ],
   "source": [
    "print(len(data_seedarr))\n",
    "print(len(data_nseedarr))"
   ]
  },
  {
   "cell_type": "code",
   "execution_count": 45,
   "metadata": {},
   "outputs": [
    {
     "data": {
      "text/plain": [
       "0.5535517493537124"
      ]
     },
     "execution_count": 45,
     "metadata": {},
     "output_type": "execute_result"
    }
   ],
   "source": [
    "len(data_seedarr[data_seedarr[:,5]==72])/len(data_seedarr)"
   ]
  },
  {
   "cell_type": "code",
   "execution_count": 46,
   "metadata": {},
   "outputs": [],
   "source": [
    "nseeds=data_nseedarr[:,8] # the trackid array of nseeds\n",
    "seeds=data_seedarr[:,8] # the trackid array of seeds"
   ]
  },
  {
   "cell_type": "code",
   "execution_count": 47,
   "metadata": {},
   "outputs": [
    {
     "data": {
      "text/plain": [
       "array([[-4.76792109e+04, -4.44842266e+04, -1.75500000e+04, ...,\n",
       "         2.90000000e+01,  0.00000000e+00,  0.00000000e+00],\n",
       "       [-4.83871055e+04, -4.49957500e+04,  1.95000000e+03, ...,\n",
       "         1.40000000e+01,  1.00000000e+00,  0.00000000e+00],\n",
       "       [-4.76883320e+04, -3.80970430e+04, -1.75500000e+04, ...,\n",
       "         2.90000000e+01,  2.00000000e+00,  0.00000000e+00],\n",
       "       ...,\n",
       "       [-5.04735508e+04, -3.87578477e+04, -1.75500000e+04, ...,\n",
       "         2.80000000e+01,  2.91276000e+05,  0.00000000e+00],\n",
       "       [-5.06859453e+04, -3.88501211e+04, -1.75500000e+04, ...,\n",
       "         2.60000000e+01,  2.91277000e+05,  0.00000000e+00],\n",
       "       [-5.07777500e+04, -3.87267656e+04, -1.75500000e+04, ...,\n",
       "         2.80000000e+01,  2.91278000e+05,  0.00000000e+00]])"
      ]
     },
     "execution_count": 47,
     "metadata": {},
     "output_type": "execute_result"
    }
   ],
   "source": [
    "index = np.argsort(data_seedarr,axis=0)\n",
    "index8=index[:,8]\n",
    "sorted_data_seedarr = data_seedarr[index8]\n",
    "sorted_data_seedarr"
   ]
  },
  {
   "cell_type": "code",
   "execution_count": 48,
   "metadata": {},
   "outputs": [
    {
     "data": {
      "text/plain": [
       "array([     0,      0,      0, ..., 291278, 291278, 291278], dtype=int64)"
      ]
     },
     "execution_count": 48,
     "metadata": {},
     "output_type": "execute_result"
    }
   ],
   "source": [
    "sorted_index = np.searchsorted(sorted_data_seedarr[:,8], data_nseedarr[:,8])\n",
    "sorted_index"
   ]
  },
  {
   "cell_type": "code",
   "execution_count": 49,
   "metadata": {},
   "outputs": [
    {
     "data": {
      "text/plain": [
       "array([     0,      0,      0, ..., 291278, 291278, 291278], dtype=int64)"
      ]
     },
     "execution_count": 49,
     "metadata": {},
     "output_type": "execute_result"
    }
   ],
   "source": [
    "data_nseedindex = np.take(index8, sorted_index, mode=\"clip\")\n",
    "data_nseedindex"
   ]
  },
  {
   "cell_type": "code",
   "execution_count": 50,
   "metadata": {},
   "outputs": [],
   "source": [
    "mask = seeds[data_nseedindex] != data_nseedarr[:,8]"
   ]
  },
  {
   "cell_type": "code",
   "execution_count": 51,
   "metadata": {},
   "outputs": [
    {
     "data": {
      "text/plain": [
       "array([False, False, False, ..., False, False, False])"
      ]
     },
     "execution_count": 51,
     "metadata": {},
     "output_type": "execute_result"
    }
   ],
   "source": [
    "mask"
   ]
  },
  {
   "cell_type": "code",
   "execution_count": 52,
   "metadata": {},
   "outputs": [
    {
     "name": "stdout",
     "output_type": "stream",
     "text": [
      "[0 0 0 ... 291278 291278 291278]\n"
     ]
    }
   ],
   "source": [
    "result = np.ma.array(data_nseedindex, mask=mask)\n",
    "print(result) #This is the array that gives mu_nseedarr's corresponding seed track index in mu_seedarr."
   ]
  },
  {
   "cell_type": "code",
   "execution_count": 53,
   "metadata": {},
   "outputs": [
    {
     "name": "stdout",
     "output_type": "stream",
     "text": [
      "0.0 291278.0\n",
      "0.0 291278.0\n"
     ]
    }
   ],
   "source": [
    "# check validity of result\n",
    "print(data_nseedarr[0,8],data_nseedarr[-1,8])\n",
    "print(data_seedarr[0,8],data_seedarr[-1,8]) # these values should be the same"
   ]
  },
  {
   "cell_type": "code",
   "execution_count": 54,
   "metadata": {},
   "outputs": [
    {
     "data": {
      "text/plain": [
       "0"
      ]
     },
     "execution_count": 54,
     "metadata": {},
     "output_type": "execute_result"
    }
   ],
   "source": [
    "sum(mask) #count number of Falses: number of tracks in data_nseedarr that do not have corresponding trackid in data_seedarr"
   ]
  },
  {
   "cell_type": "code",
   "execution_count": 55,
   "metadata": {},
   "outputs": [],
   "source": [
    "# adjust data_nseedarray to only include those with corresponding trackid in data_seedarr:\n",
    "data_nseedarr=data_nseedarr[mask==False]"
   ]
  },
  {
   "cell_type": "code",
   "execution_count": 56,
   "metadata": {},
   "outputs": [],
   "source": [
    "result=result[mask==False]"
   ]
  },
  {
   "cell_type": "code",
   "execution_count": 57,
   "metadata": {},
   "outputs": [
    {
     "data": {
      "text/plain": [
       "-47679.2109375"
      ]
     },
     "execution_count": 57,
     "metadata": {},
     "output_type": "execute_result"
    }
   ],
   "source": [
    "data_seedarr[result[0]][0]"
   ]
  },
  {
   "cell_type": "code",
   "execution_count": 58,
   "metadata": {},
   "outputs": [],
   "source": [
    "# All Data IP as an array:\n",
    "data_IParr=[]\n",
    "for i in range(len(data_nseedarr)):\n",
    "    data_IParr.append(math.sqrt((data_nseedarr[i][0]-(data_nseedarr[i][2]-data_seedarr[result[i]][2])*data_nseedarr[i][3]-data_seedarr[result[i]][0])**2+(data_nseedarr[i][1]-(data_nseedarr[i][2]-data_seedarr[result[i]][2])*data_nseedarr[i][4]-data_seedarr[result[i]][1])**2))\n",
    "data_IParr=np.array(data_IParr)"
   ]
  },
  {
   "cell_type": "code",
   "execution_count": 59,
   "metadata": {},
   "outputs": [
    {
     "data": {
      "text/plain": [
       "(array([4.29383e+06, 1.60848e+05, 7.06120e+04, 3.43670e+04, 1.67280e+04,\n",
       "        9.71800e+03, 5.75900e+03, 4.01900e+03, 2.52400e+03, 1.74400e+03,\n",
       "        1.11400e+03, 8.43000e+02, 6.42000e+02, 4.53000e+02, 3.72000e+02,\n",
       "        2.59000e+02, 1.97000e+02, 1.26000e+02, 1.41000e+02, 1.03000e+02,\n",
       "        7.60000e+01, 6.90000e+01, 4.10000e+01, 3.70000e+01, 2.50000e+01,\n",
       "        2.70000e+01, 2.10000e+01, 1.90000e+01, 1.00000e+01, 1.40000e+01,\n",
       "        9.00000e+00, 6.00000e+00, 3.00000e+00, 2.00000e+00, 4.00000e+00,\n",
       "        7.00000e+00, 3.00000e+00, 2.00000e+00, 0.00000e+00, 0.00000e+00,\n",
       "        1.00000e+00, 0.00000e+00, 0.00000e+00, 0.00000e+00, 0.00000e+00,\n",
       "        1.00000e+00, 0.00000e+00, 0.00000e+00, 0.00000e+00, 1.00000e+00]),\n",
       " array([1.91613232e-06, 4.00632227e+01, 8.01264435e+01, 1.20189664e+02,\n",
       "        1.60252885e+02, 2.00316106e+02, 2.40379327e+02, 2.80442548e+02,\n",
       "        3.20505768e+02, 3.60568989e+02, 4.00632210e+02, 4.40695431e+02,\n",
       "        4.80758652e+02, 5.20821872e+02, 5.60885093e+02, 6.00948314e+02,\n",
       "        6.41011535e+02, 6.81074756e+02, 7.21137976e+02, 7.61201197e+02,\n",
       "        8.01264418e+02, 8.41327639e+02, 8.81390860e+02, 9.21454081e+02,\n",
       "        9.61517301e+02, 1.00158052e+03, 1.04164374e+03, 1.08170696e+03,\n",
       "        1.12177018e+03, 1.16183341e+03, 1.20189663e+03, 1.24195985e+03,\n",
       "        1.28202307e+03, 1.32208629e+03, 1.36214951e+03, 1.40221273e+03,\n",
       "        1.44227595e+03, 1.48233917e+03, 1.52240239e+03, 1.56246561e+03,\n",
       "        1.60252883e+03, 1.64259206e+03, 1.68265528e+03, 1.72271850e+03,\n",
       "        1.76278172e+03, 1.80284494e+03, 1.84290816e+03, 1.88297138e+03,\n",
       "        1.92303460e+03, 1.96309782e+03, 2.00316104e+03]),\n",
       " <a list of 50 Patch objects>)"
      ]
     },
     "execution_count": 59,
     "metadata": {},
     "output_type": "execute_result"
    },
    {
     "data": {
      "image/png": "[encoded data removed]",
      "text/plain": [
       "<Figure size 432x288 with 1 Axes>"
      ]
     },
     "metadata": {
      "needs_background": "light"
     },
     "output_type": "display_data"
    }
   ],
   "source": [
    "plt.hist(data_IParr,bins=50)"
   ]
  },
  {
   "cell_type": "code",
   "execution_count": 60,
   "metadata": {},
   "outputs": [
    {
     "data": {
      "text/plain": [
       "11.30285865201906"
      ]
     },
     "execution_count": 60,
     "metadata": {},
     "output_type": "execute_result"
    }
   ],
   "source": [
    "np.mean(data_IParr)"
   ]
  },
  {
   "cell_type": "code",
   "execution_count": 61,
   "metadata": {},
   "outputs": [
    {
     "data": {
      "text/plain": [
       "3536581"
      ]
     },
     "execution_count": 61,
     "metadata": {},
     "output_type": "execute_result"
    }
   ],
   "source": [
    "IP_cutarr=data_nseedarr[data_IParr<=8]\n",
    "len(IP_cutarr)"
   ]
  },
  {
   "cell_type": "code",
   "execution_count": 62,
   "metadata": {},
   "outputs": [
    {
     "data": {
      "text/plain": [
       "4604777"
      ]
     },
     "execution_count": 62,
     "metadata": {},
     "output_type": "execute_result"
    }
   ],
   "source": [
    "len(data_nseedarr)"
   ]
  },
  {
   "cell_type": "code",
   "execution_count": 63,
   "metadata": {},
   "outputs": [
    {
     "name": "stdout",
     "output_type": "stream",
     "text": [
      "number of muons in data_seedarr 103905\n",
      "number of other particles in data_seedarr 187374\n"
     ]
    }
   ],
   "source": [
    "print('number of muons in data_seedarr',len(data_seedarr[data_seedarr[:,6]==13]))\n",
    "print('number of other particles in data_seedarr',len(data_seedarr[data_seedarr[:,6]!=13]))"
   ]
  },
  {
   "cell_type": "code",
   "execution_count": 64,
   "metadata": {},
   "outputs": [
    {
     "data": {
      "text/plain": [
       "<matplotlib.legend.Legend at 0x1a881311b48>"
      ]
     },
     "execution_count": 64,
     "metadata": {},
     "output_type": "execute_result"
    },
    {
     "data": {
      "image/png": "[encoded data removed]",
      "text/plain": [
       "<Figure size 432x288 with 1 Axes>"
      ]
     },
     "metadata": {
      "needs_background": "light"
     },
     "output_type": "display_data"
    }
   ],
   "source": [
    "Qual_arr=[]\n",
    "eff_arr=[]\n",
    "pur_arr=[]\n",
    "i_arr=[]\n",
    "\n",
    "for i in range(1,20):\n",
    "\n",
    "    cut_IP=data_nseedarr[data_IParr<=i]\n",
    "\n",
    "    muon=cut_IP[cut_IP[:,6]==13]\n",
    "    other=cut_IP[cut_IP[:,6]!=13]\n",
    "\n",
    "    TP=muon.size\n",
    "    FP=other.size\n",
    "    FN=muonarr.size-TP\n",
    "\n",
    "    eff=TP/(TP+FN)\n",
    "    pur=TP/(TP+FP)\n",
    "    Qual=eff*pur\n",
    "    eff_arr.append(eff)\n",
    "    pur_arr.append(pur)\n",
    "    i_arr.append(i)\n",
    "    Qual_arr.append(Qual)\n",
    "\n",
    "plt.title(\"Quality of Muon IP cut: IP<=i\")\n",
    "plt.xlabel(\"i\")\n",
    "plt.ylabel(\"Quality\")\n",
    "plt.plot(i_arr,Qual_arr,label='Quality',color=\"orange\")\n",
    "plt.plot(i_arr,eff_arr,label='efficiency',color=\"black\")\n",
    "plt.plot(i_arr,pur_arr,label='purity',color=\"skyblue\")\n",
    "plt.legend(loc='upper center')"
   ]
  },
  {
   "cell_type": "code",
   "execution_count": 65,
   "metadata": {},
   "outputs": [
    {
     "data": {
      "text/plain": [
       "<matplotlib.legend.Legend at 0x1a881383e88>"
      ]
     },
     "execution_count": 65,
     "metadata": {},
     "output_type": "execute_result"
    },
    {
     "data": {
      "image/png": "[encoded data removed]",
      "text/plain": [
       "<Figure size 432x288 with 1 Axes>"
      ]
     },
     "metadata": {
      "needs_background": "light"
     },
     "output_type": "display_data"
    }
   ],
   "source": [
    "Qual_arr=[]\n",
    "eff_arr=[]\n",
    "pur_arr=[]\n",
    "i_arr=[]\n",
    "\n",
    "for i in range(1,20):\n",
    "\n",
    "    cut_IP=data_nseedarr[data_IParr<=i]\n",
    "    np.append(cut_IP,data_seedarr) # Add the seeds back in for whole data analysis\n",
    "    \n",
    "    muon=cut_IP[cut_IP[:,6]==13]\n",
    "    other=cut_IP[cut_IP[:,6]!=13]\n",
    "\n",
    "    TP=muon.size\n",
    "    FP=other.size\n",
    "    FN=muonarr.size-TP\n",
    "\n",
    "    eff=TP/(TP+FN)\n",
    "    pur=TP/(TP+FP)\n",
    "    Qual=eff*pur\n",
    "    eff_arr.append(eff)\n",
    "    pur_arr.append(pur)\n",
    "    i_arr.append(i)\n",
    "    Qual_arr.append(Qual)\n",
    "\n",
    "plt.title(\"Quality of Muon IP cut: IP<=i\")\n",
    "plt.xlabel(\"i\")\n",
    "plt.ylabel(\"Quality\")\n",
    "plt.plot(i_arr,Qual_arr,label='Quality',color=\"orange\")\n",
    "plt.plot(i_arr,eff_arr,label='efficiency',color=\"black\")\n",
    "plt.plot(i_arr,pur_arr,label='purity',color=\"skyblue\")\n",
    "plt.legend(loc='upper center')"
   ]
  },
  {
   "cell_type": "code",
   "execution_count": null,
   "metadata": {},
   "outputs": [],
   "source": []
  }
 ],
 "metadata": {
  "kernelspec": {
   "display_name": "Python 3",
   "language": "python",
   "name": "python3"
  },
  "language_info": {
   "codemirror_mode": {
    "name": "ipython",
    "version": 3
   },
   "file_extension": ".py",
   "mimetype": "text/x-python",
   "name": "python",
   "nbconvert_exporter": "python",
   "pygments_lexer": "ipython3",
   "version": "3.7.4"
  }
 },
 "nbformat": 4,
 "nbformat_minor": 5
}
